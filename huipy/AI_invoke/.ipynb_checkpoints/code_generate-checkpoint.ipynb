{
 "cells": [
  {
   "cell_type": "markdown",
   "metadata": {
    "ExecuteTime": {
     "end_time": "2020-08-21T10:02:53.573921Z",
     "start_time": "2020-08-21T10:02:53.562056Z"
    }
   },
   "source": [
    "def generate_pyapi_code_template(pymodule_name, func_names, module_class_name):\n",
    "    \"\"\"\n",
    "        func_names = [\"test1\", \"test_2\"]\n",
    "        module_class_name = \"AIAPI2\"\n",
    "        pymodule_name = 'ai_api'\n",
    "    \"\"\"\n",
    "\n",
    "    member_var_str = [\n",
    "        \"\\tHUI::PyBaseEngine* pyengine;\", \n",
    "        \"\\tPyObject* module_obj;\"] + \\\n",
    "        [\"\\tPyObject* func_{};\".format(name) for name in func_names]\n",
    "    member_var_str = \"\\n\".join(member_var_str)\n",
    "\n",
    "    constructor_str = [\n",
    "        \"\\t\\tthis->pyengine = pyengine;\",\n",
    "        '\\t\\tmodule_obj = pyengine->import_module(\"{}\");'.format(pymodule_name)] + \\\n",
    "        [\"\\t\\tfunc_{} = NULL;\".format(name) for name in func_names]\n",
    "    constructor_str = \"\\n\".join(constructor_str)\n",
    "\n",
    "    func_str = lambda func_name: \"\\n\".join([\n",
    "        \"\\t\\tif(!func_{})\".format(func_name),\n",
    "        '\\t\\t\\tfunc_{} = pyengine->get_func(module_obj, \"{}\");'.format(func_name, func_name),\n",
    "        '\\t\\t//modify below code',\n",
    "        '\\t\\tPyObject* args = XXX;',\n",
    "        '\\t\\tPyEval_CallObject(func_{}, args);'.format(func_name)])\n",
    "\n",
    "    code_str = \"class {}\".format(module_class_name) + \"{\\n\" + member_var_str\n",
    "    code_str += \"\\n\\npublic:\\n\" \n",
    "    code_str += \"\\t{}(HUI::PyBaseEngine* pyengine)\".format(module_class_name) + \"{\\n\" + constructor_str + \"\\n\\t}\\n\\n\"\n",
    "    code_str += \"\\n\".join([\"\\t XXX {}()\".format(func_name) + \"{\\n\" + func_str(func_name) + \"\\n\\t}\\n\" for func_name in func_names])\n",
    "    code_str += \"};\"\n",
    "    return code_str"
   ]
  },
  {
   "cell_type": "code",
   "execution_count": 79,
   "metadata": {
    "ExecuteTime": {
     "end_time": "2020-08-21T10:02:54.481933Z",
     "start_time": "2020-08-21T10:02:54.476573Z"
    }
   },
   "outputs": [
    {
     "name": "stdout",
     "output_type": "stream",
     "text": [
      "class AIAPI{\n",
      "\tHUI::PyBaseEngine* pyengine;\n",
      "\tPyObject* module_obj;\n",
      "\tPyObject* func_init_shibie_model;\n",
      "\tPyObject* func_jiance;\n",
      "\tPyObject* func_shibie;\n",
      "\tPyObject* func_finish;\n",
      "\n",
      "public:\n",
      "\tAIAPI(HUI::PyBaseEngine* pyengine){\n",
      "\t\tthis->pyengine = pyengine;\n",
      "\t\tmodule_obj = pyengine->import_module(\"ai_api\");\n",
      "\t\tfunc_init_shibie_model = NULL;\n",
      "\t\tfunc_jiance = NULL;\n",
      "\t\tfunc_shibie = NULL;\n",
      "\t\tfunc_finish = NULL;\n",
      "\t}\n",
      "\n",
      "\t XXX init_shibie_model(){\n",
      "\t\tif(!func_init_shibie_model)\n",
      "\t\t\tfunc_init_shibie_model = pyengine->get_func(module_obj, \"init_shibie_model\");\n",
      "\t\t//modify below code\n",
      "\t\tPyObject* args = XXX;\n",
      "\t\tPyEval_CallObject(func_init_shibie_model, args);\n",
      "\t}\n",
      "\n",
      "\t XXX jiance(){\n",
      "\t\tif(!func_jiance)\n",
      "\t\t\tfunc_jiance = pyengine->get_func(module_obj, \"jiance\");\n",
      "\t\t//modify below code\n",
      "\t\tPyObject* args = XXX;\n",
      "\t\tPyEval_CallObject(func_jiance, args);\n",
      "\t}\n",
      "\n",
      "\t XXX shibie(){\n",
      "\t\tif(!func_shibie)\n",
      "\t\t\tfunc_shibie = pyengine->get_func(module_obj, \"shibie\");\n",
      "\t\t//modify below code\n",
      "\t\tPyObject* args = XXX;\n",
      "\t\tPyEval_CallObject(func_shibie, args);\n",
      "\t}\n",
      "\n",
      "\t XXX finish(){\n",
      "\t\tif(!func_finish)\n",
      "\t\t\tfunc_finish = pyengine->get_func(module_obj, \"finish\");\n",
      "\t\t//modify below code\n",
      "\t\tPyObject* args = XXX;\n",
      "\t\tPyEval_CallObject(func_finish, args);\n",
      "\t}\n",
      "};\n"
     ]
    }
   ],
   "source": [
    "code_str = generate_pyapi_code_template(\"ai_api\", [\"init_shibie_model\", \"jiance\", \"shibie\", \"finish\"], \"AIAPI\")\n",
    "print(code_str)"
   ]
  },
  {
   "cell_type": "markdown",
   "metadata": {},
   "source": [
    "1. 函数定义写在.h里，可能在编译的时候由于多次加载出现重定义的问题 pyassert"
   ]
  }
 ],
 "metadata": {
  "kernelspec": {
   "display_name": "torch120",
   "language": "python",
   "name": "torch120"
  },
  "language_info": {
   "codemirror_mode": {
    "name": "ipython",
    "version": 3
   },
   "file_extension": ".py",
   "mimetype": "text/x-python",
   "name": "python",
   "nbconvert_exporter": "python",
   "pygments_lexer": "ipython3",
   "version": "3.7.8"
  }
 },
 "nbformat": 4,
 "nbformat_minor": 2
}
